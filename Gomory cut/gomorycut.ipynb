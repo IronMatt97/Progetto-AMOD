{
 "cells": [
  {
   "cell_type": "markdown",
   "metadata": {},
   "source": [
    "# Applicazione dei tagli di Gomory\n",
    "### Importazione librerie"
   ]
  },
  {
   "cell_type": "code",
   "execution_count": 91,
   "metadata": {},
   "outputs": [],
   "source": [
    "import numpy as np\n",
    "import pandas as pd"
   ]
  },
  {
   "cell_type": "markdown",
   "metadata": {},
   "source": [
    "### Definizione funzioni"
   ]
  },
  {
   "cell_type": "markdown",
   "metadata": {},
   "source": [
    "- Funzione per restituire il tableau preparato a partire dai parametri"
   ]
  },
  {
   "cell_type": "code",
   "execution_count": 92,
   "metadata": {},
   "outputs": [],
   "source": [
    "def get_initial_tableau(objective_function,constraints,maximum_values):\n",
    "    tableau=[]\n",
    "    objective_function = [-n for n in objective_function]\n",
    "    tableau.append(objective_function)\n",
    "    n_constraints = len(constraints)\n",
    "    n_slack = n_constraints\n",
    "    index = 0\n",
    "    for constraint in constraints:\n",
    "        constraint.insert(0, maximum_values[index])\n",
    "        for i in range(0,n_slack):\n",
    "            if i == index:\n",
    "                constraint.append(1)\n",
    "            else:\n",
    "                constraint.append(0)\n",
    "        index = index + 1\n",
    "        constraint.append(0)\n",
    "        tableau.append(constraint)\n",
    "    for i in range(0,n_slack):\n",
    "        objective_function.append(0)\n",
    "    objective_function.insert(0,0)\n",
    "    objective_function.append(1)\n",
    "    return tableau"
   ]
  },
  {
   "cell_type": "markdown",
   "metadata": {},
   "source": [
    "- Funzioni di gestione del pivot. In particolare, tale valore sarà ogni volta individuato tramite:\n",
    "    - Colonna con il coefficiente della funzione obiettivo minore\n",
    "    - Riga con il rapporto capacità/valore inferiore (ma comunque maggiore di 0)"
   ]
  },
  {
   "cell_type": "code",
   "execution_count": 93,
   "metadata": {},
   "outputs": [],
   "source": [
    "def find_min_greater_than_zero(vect):\n",
    "    min = 0\n",
    "    for elem in vect:\n",
    "        if elem > 0 and elem < vect[min]:\n",
    "            min = vect.index(elem)\n",
    "    return min\n",
    "def get_pivot_coordinates(tableau):\n",
    "    pivot_column = tableau[0].index(min(tableau[0]))\n",
    "    pivot_column_values=[]\n",
    "    for row in range(1,len(tableau)):\n",
    "        if tableau[row][pivot_column] != 0:\n",
    "            pivot_column_values.append(round(tableau[row][0]/tableau[row][pivot_column],3))\n",
    "        else:\n",
    "            pivot_column_values.append(-1)\n",
    "    pivot_row=find_min_greater_than_zero(pivot_column_values)+1\n",
    "    return pivot_row, pivot_column"
   ]
  },
  {
   "cell_type": "markdown",
   "metadata": {},
   "source": [
    "- Funzione iterativa, che restituisce il tableau successivo a partire da uno in ingresso.\n",
    "    - Per ogni riga diversa da quella del pivot, somma ad essa la riga del pivot moltiplicata per un coefficiente tale da azzerare il valore sulla stessa colonna del pivot\n",
    "- La seconda funzione controlla se il tableau è quello finale: è tale se tutti i coefficienti della funzione obiettivo sono positivi"
   ]
  },
  {
   "cell_type": "code",
   "execution_count": 94,
   "metadata": {},
   "outputs": [],
   "source": [
    "def nextStep(tableau):\n",
    "    pivot_row,pivot_column = get_pivot_coordinates(tableau)\n",
    "    for row in range(0,len(tableau)):\n",
    "        if row != pivot_row:\n",
    "            multiplier = tableau[row][pivot_column]/tableau[pivot_row][pivot_column]\n",
    "            for index in range(0,len(tableau[0])):\n",
    "                tableau[row][index] = round(tableau[row][index] - multiplier*tableau[pivot_row][index],3)\n",
    "    return tableau\n",
    "\n",
    "def check_continue(tableau):\n",
    "    CONTINUE = False\n",
    "    for elem in tableau[0]:\n",
    "        if elem < 0:\n",
    "            CONTINUE = True\n",
    "    return CONTINUE"
   ]
  },
  {
   "cell_type": "markdown",
   "metadata": {},
   "source": [
    "- Funzione che calcola le soluzioni ed il valore ottimo a partire dal tableau finale. Per calcolare i valori della soluzione bisogna prendere in considerazione tutte le colonne (non di slack), con un solo valore diverso da 0, dividendo tale valore per il primo termine a sinistra della stessa riga."
   ]
  },
  {
   "cell_type": "code",
   "execution_count": 95,
   "metadata": {},
   "outputs": [],
   "source": [
    "def get_solutions(tableau, items):\n",
    "    cols = []\n",
    "    solutions=[]\n",
    "    for r in range(0,items+1):\n",
    "        cols.append([row[r] for row in tableau])\n",
    "    #Arrivato qui ho l'insieme delle colonne. Se in qualcuna c'è un solo elemento diverso da 0, la prendo\n",
    "    for col in cols:\n",
    "        k = 0\n",
    "        sol=0\n",
    "        for i in col:\n",
    "            if i != 0:\n",
    "                k = k+1\n",
    "                row = col.index(i)\n",
    "        if k == 1:\n",
    "             #Sto osservando una colonna soluzione\n",
    "             sol = tableau[row][0]/tableau[row][cols.index(col)]\n",
    "        solutions.append([sol,row])\n",
    "    opt = tableau[0][0]\n",
    "    return solutions[1:],opt"
   ]
  },
  {
   "cell_type": "markdown",
   "metadata": {},
   "source": [
    "- Funzione che controlla che le soluzioni trovate non siano sovrapposte sugli stessi vincoli. Qualora lo fossero, vengono divise"
   ]
  },
  {
   "cell_type": "code",
   "execution_count": 96,
   "metadata": {},
   "outputs": [],
   "source": [
    "def check_multiple_sols(sols,optimum,objective_function):\n",
    "    #Vediamo cosa fare quando ci sono più soluzioni ottime\n",
    "    equalities=[]\n",
    "    solutions =[]\n",
    "    for s in range(0,len(sols)-1):\n",
    "        for s2 in range(s+1,len(sols)):\n",
    "            if sols[s][1] == sols[s2][1] and objective_function[s]*sols[s][0] == objective_function[s2]*sols[s2][0] and sols[s][0]!=0:\n",
    "                print(\"Multiple solutions found.\")\n",
    "                equalities.append([s,s2])\n",
    "    if equalities:\n",
    "        sol1=[]\n",
    "        sol2=[]\n",
    "        for e in equalities:\n",
    "            for s in sols:\n",
    "                if sols.index(s) == e[1]:\n",
    "                    sol1.append(0)\n",
    "                else:\n",
    "                    sol1.append(sols[sols.index(s)][0])\n",
    "            for s in sols:\n",
    "                if sols.index(s) == e[0]:\n",
    "                    sol2.append(0)\n",
    "                else:\n",
    "                    sol2.append(sols[sols.index(s)][0])\n",
    "            solutions.append(sol1)\n",
    "            solutions.append(sol2)\n",
    "    return solutions"
   ]
  },
  {
   "cell_type": "markdown",
   "metadata": {},
   "source": [
    "### Definizione dei parametri del problema"
   ]
  },
  {
   "cell_type": "code",
   "execution_count": 97,
   "metadata": {},
   "outputs": [
    {
     "name": "stdout",
     "output_type": "stream",
     "text": [
      "   0  1  2  3  4  5  6  7\n",
      "0  0 -3 -2 -1 -4  0  0  1\n",
      "1  7  3  2  1  6  1  0  0\n",
      "2  7  3  5  1  6  0  1  0\n"
     ]
    }
   ],
   "source": [
    "objective_function = [3,2,1,4]\n",
    "weights = [3,2,1,6,]\n",
    "volumes = [3,5,1,6]\n",
    "max_weight = 7\n",
    "max_volume = 7\n",
    "items = len(objective_function)\n",
    "\n",
    "of = objective_function.copy()\n",
    "w = weights.copy()\n",
    "v = volumes.copy()\n",
    "\n",
    "TABLEAU = get_initial_tableau(of,[w,v],[max_weight,max_volume])\n",
    "print(pd.DataFrame(TABLEAU))"
   ]
  },
  {
   "cell_type": "markdown",
   "metadata": {},
   "source": [
    "### Risoluzione del tableau"
   ]
  },
  {
   "cell_type": "code",
   "execution_count": 98,
   "metadata": {},
   "outputs": [
    {
     "name": "stdout",
     "output_type": "stream",
     "text": [
      "INITIAL TABLEAU:\n",
      "\n",
      "   0  1  2  3  4  5  6  7\n",
      "0  0 -3 -2 -1 -4  0  0  1\n",
      "1  7  3  2  1  6  1  0  0\n",
      "2  7  3  5  1  6  0  1  0\n",
      "\n",
      "----RESOLUTION STEP----\n",
      "\n",
      "The pivot is in position[ 1 , 4 ]\n",
      "Tableau after the step execution:\n",
      "\n",
      "       0    1      2      3    4      5    6    7\n",
      "0  4.667 -1.0 -0.667 -0.333  0.0  0.667  0.0  1.0\n",
      "1  7.000  3.0  2.000  1.000  6.0  1.000  0.0  0.0\n",
      "2  0.000  0.0  3.000  0.000  0.0 -1.000  1.0  0.0\n",
      "\n",
      "----RESOLUTION STEP----\n",
      "\n",
      "The pivot is in position[ 1 , 1 ]\n",
      "Tableau after the step execution:\n",
      "\n",
      "     0    1    2    3    4    5    6    7\n",
      "0  7.0  0.0 -0.0  0.0  2.0  1.0  0.0  1.0\n",
      "1  7.0  3.0  2.0  1.0  6.0  1.0  0.0  0.0\n",
      "2  0.0  0.0  3.0  0.0  0.0 -1.0  1.0  0.0\n"
     ]
    }
   ],
   "source": [
    "#Fino a quando non avremo la riga 0 non avrà tutti valori positivi, si itera la generazione dei tableau.\n",
    "print(\"INITIAL TABLEAU:\\n\")\n",
    "print(pd.DataFrame(TABLEAU))\n",
    "while check_continue(TABLEAU):\n",
    "    print(\"\\n----RESOLUTION STEP----\\n\")\n",
    "    pivot_row,pivot_column = get_pivot_coordinates(TABLEAU)\n",
    "    print(\"The pivot is in position[\",pivot_row,\",\",pivot_column,\"]\")\n",
    "    print(\"Tableau after the step execution:\\n\")\n",
    "    nextStep(TABLEAU)\n",
    "    print(pd.DataFrame(TABLEAU))"
   ]
  },
  {
   "cell_type": "markdown",
   "metadata": {},
   "source": [
    "### Stampa dei risultati"
   ]
  },
  {
   "cell_type": "code",
   "execution_count": 99,
   "metadata": {},
   "outputs": [
    {
     "name": "stdout",
     "output_type": "stream",
     "text": [
      "Multiple solutions found.\n",
      "There are equivalent solutions.\n",
      "[[2.3333333333333335, 0, 0, 0], [0, 0, 7.0, 0]]\n",
      "\n",
      "The optimum value is  7.0\n"
     ]
    }
   ],
   "source": [
    "solution, optimum = get_solutions(TABLEAU,items)\n",
    "#Il solutions vector rappresenta l'unione anche di soluzioni sovrapposte, la struttura è [valore soluzione,vincolo relativo]\n",
    "multiple_solutions=check_multiple_sols(solution,optimum,objective_function)\n",
    "if multiple_solutions: \n",
    "    print(\"There are equivalent solutions.\")\n",
    "    print(multiple_solutions)\n",
    "else:\n",
    "    print(\"Solutions vector: \",solution)\n",
    "print(\"\\nThe optimum value is \",optimum)"
   ]
  }
 ],
 "metadata": {
  "kernelspec": {
   "display_name": "Python 3.10.8 64-bit (microsoft store)",
   "language": "python",
   "name": "python3"
  },
  "language_info": {
   "codemirror_mode": {
    "name": "ipython",
    "version": 3
   },
   "file_extension": ".py",
   "mimetype": "text/x-python",
   "name": "python",
   "nbconvert_exporter": "python",
   "pygments_lexer": "ipython3",
   "version": "3.10.8"
  },
  "orig_nbformat": 4,
  "vscode": {
   "interpreter": {
    "hash": "ff0d027b96371b0f455967accd7ba1c31740e00cbcb7b1159d79229d4ca7da2d"
   }
  }
 },
 "nbformat": 4,
 "nbformat_minor": 2
}
